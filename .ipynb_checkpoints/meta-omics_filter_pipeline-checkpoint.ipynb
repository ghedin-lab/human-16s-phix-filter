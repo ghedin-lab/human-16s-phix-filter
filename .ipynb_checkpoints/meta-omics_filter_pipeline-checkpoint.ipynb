{
 "cells": [
  {
   "cell_type": "markdown",
   "metadata": {},
   "source": [
    "This pipeline is for filtering human, rRNA, and phiX reads from clinical metatranscriptomic RNA-Seq data. This version implements SortMeRNA (http://bioinfo.lifl.fr/RNA/sortmerna/), DeconSeq (http://deconseq.sourceforge.net/index.html), and eventually PrinSeq (http://prinseq.sourceforge.net/) or something equivalent to filter based on quality.\n",
    "\n",
    "The DeconSeq config script needs to be altered in order to point to your custom database. In order to so so, go into the DeconSeq config file and alter the following line to point to where the databases are:\n",
    "\n",
    "#use constant DB_DIR => 'db/'; # original location\n",
    "use constant DB_DIR => '/scratch/at120/shared/db/human-16s-for-filtering/deconseq-db/';\n",
    "\n",
    "and then alter the hash of available databases in that directory. Use the database index prefix (what you specify with -p when using bwa index)\n",
    "\n",
    "use constant DBS => {hsref => {name => 'Human Reference GRCh37',\n",
    "                               db => 'hs_ref_GRCh37'},\n",
    "                     bact => {name => 'Bacterial genomes',\n",
    "                              db => 'bactDB'},\n",
    "                     vir => {name => 'Viral genomes',\n",
    "                             db => 'virDB'},\n",
    "                     hg_phix => {name=> 'Human phiX',\n",
    "                             db => 'human-phix-genomes'},\n",
    "                     hg_phix_16s => {name => 'Human 16s Phi',\n",
    "                               db => 'hg19-silva_16s-phix.fasta'}};\n",
    "                               \n",
    "To run this you need to change the $path variable to wherever you want to work"
   ]
  },
  {
   "cell_type": "code",
   "execution_count": null,
   "metadata": {
    "collapsed": true
   },
   "outputs": [],
   "source": [
    "qsub -v fastq=sample.prefix filter.sh"
   ]
  }
 ],
 "metadata": {
  "kernelspec": {
   "display_name": "Bash",
   "language": "bash",
   "name": "bash"
  },
  "language_info": {
   "codemirror_mode": "shell",
   "file_extension": ".sh",
   "mimetype": "text/x-sh",
   "name": "bash"
  }
 },
 "nbformat": 4,
 "nbformat_minor": 0
}
